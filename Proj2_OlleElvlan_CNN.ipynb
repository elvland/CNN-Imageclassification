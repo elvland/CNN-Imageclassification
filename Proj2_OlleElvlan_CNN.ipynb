{
  "nbformat": 4,
  "nbformat_minor": 0,
  "metadata": {
    "colab": {
      "provenance": []
    },
    "kernelspec": {
      "name": "python3",
      "display_name": "Python 3"
    },
    "language_info": {
      "name": "python"
    }
  },
  "cells": [
    {
      "cell_type": "code",
      "execution_count": null,
      "metadata": {
        "colab": {
          "base_uri": "https://localhost:8080/",
          "height": 17
        },
        "id": "rLhTgA0sgCyQ",
        "outputId": "b02b5d4f-d21c-4276-cf67-d7d3ad4c0540"
      },
      "outputs": [
        {
          "output_type": "display_data",
          "data": {
            "text/html": [
              "        <script type=\"text/javascript\">\n",
              "        window.PlotlyConfig = {MathJaxConfig: 'local'};\n",
              "        if (window.MathJax) {MathJax.Hub.Config({SVG: {font: \"STIX-Web\"}});}\n",
              "        if (typeof require !== 'undefined') {\n",
              "        require.undef(\"plotly\");\n",
              "        requirejs.config({\n",
              "            paths: {\n",
              "                'plotly': ['https://cdn.plot.ly/plotly-2.8.3.min']\n",
              "            }\n",
              "        });\n",
              "        require(['plotly'], function(Plotly) {\n",
              "            window._Plotly = Plotly;\n",
              "        });\n",
              "        }\n",
              "        </script>\n",
              "        "
            ]
          },
          "metadata": {}
        }
      ],
      "source": [
        "import numpy as np\n",
        "import pandas as pd\n",
        "from sklearn.model_selection import train_test_split\n",
        "from sklearn.metrics import classification_report\n",
        "from tensorflow.python import keras\n",
        "from tensorflow.python.keras.models import Sequential\n",
        "from tensorflow.python.keras.layers import Dense, Flatten, Conv2D, Dropout, MaxPooling2D\n",
        "from IPython.display import SVG\n",
        "from keras.utils.vis_utils import model_to_dot\n",
        "from keras.utils import plot_model\n",
        "import seaborn as sns\n",
        "import matplotlib.pyplot as plt\n",
        "%matplotlib inline \n",
        "import plotly.graph_objs as go\n",
        "import plotly.figure_factory as ff\n",
        "from plotly import tools\n",
        "from plotly.offline import download_plotlyjs, init_notebook_mode, plot, iplot\n",
        "init_notebook_mode(connected=True)"
      ]
    },
    {
      "cell_type": "code",
      "source": [
        "IMG_ROWS = 28\n",
        "IMG_COLS = 28\n",
        "NUM_CLASSES = 10\n",
        "TEST_SIZE = 0.2\n",
        "RANDOM_STATE = 2018\n",
        "#Model\n",
        "NO_EPOCHS = 50\n",
        "BATCH_SIZE = 128\n",
        "\n"
      ],
      "metadata": {
        "id": "sw68G1kOp00j"
      },
      "execution_count": null,
      "outputs": []
    },
    {
      "cell_type": "code",
      "source": [
        "\n",
        "train_data = pd.read_csv('/content/fashion-mnist_train.csv')\n",
        "test_data = pd.read_csv('/content/fashion-mnist_test.csv')"
      ],
      "metadata": {
        "id": "qKdrgEkUqOo-"
      },
      "execution_count": null,
      "outputs": []
    },
    {
      "cell_type": "code",
      "source": [
        "print(\"Fashion MNIST train -  rows:\",train_data.shape[0],\" columns:\", train_data.shape[1])\n",
        "print(\"Fashion MNIST test -  rows:\",test_data.shape[0],\" columns:\", test_data.shape[1])\n",
        "\n"
      ],
      "metadata": {
        "colab": {
          "base_uri": "https://localhost:8080/"
        },
        "id": "WdP6niudxNJO",
        "outputId": "c99eaaf5-017a-4bff-e7db-10dbff07157c"
      },
      "execution_count": null,
      "outputs": [
        {
          "output_type": "stream",
          "name": "stdout",
          "text": [
            "Fashion MNIST train -  rows: 60000  columns: 785\n",
            "Fashion MNIST test -  rows: 10000  columns: 785\n"
          ]
        }
      ]
    },
    {
      "cell_type": "code",
      "source": [
        "# Create a dictionary for each type of label \n",
        "labels = {0 : \"T-shirt/top\", 1: \"Trouser\", 2: \"Pullover\", 3: \"Dress\", 4: \"Coat\",\n",
        "          5: \"Sandal\", 6: \"Shirt\", 7: \"Sneaker\", 8: \"Bag\", 9: \"Ankle Boot\"}\n",
        "print(train_data)\n",
        "\n",
        "def get_classes_distribution(data):\n",
        "                                                                    # Get the count for each label\n",
        "    label_counts = data[\"label\"].value_counts()\n",
        "    total_samples = len(data)\n",
        "\n",
        "                                                                      # Get total number of samples\n",
        "   \n",
        "\n",
        "\n",
        "                                                                              # Count the number of items in each class\n",
        "    for i in range(len(label_counts)):\n",
        "        label = labels[label_counts.index[i]]\n",
        "        count = label_counts.values[i]\n",
        "        percent = (count / total_samples) * 100\n",
        "        print(\"{:<20s}:   {} or {}%\".format(label, count, percent))\n",
        "\n",
        "get_classes_distribution(train_data)"
      ],
      "metadata": {
        "colab": {
          "base_uri": "https://localhost:8080/"
        },
        "id": "6-Ejjh98yFlw",
        "outputId": "4c5a6353-dd4a-4276-9ce5-1d125b7a7c8b"
      },
      "execution_count": null,
      "outputs": [
        {
          "output_type": "stream",
          "name": "stdout",
          "text": [
            "       label  pixel1  pixel2  pixel3  pixel4  pixel5  pixel6  pixel7  pixel8  \\\n",
            "0          2       0       0       0       0       0       0       0       0   \n",
            "1          9       0       0       0       0       0       0       0       0   \n",
            "2          6       0       0       0       0       0       0       0       5   \n",
            "3          0       0       0       0       1       2       0       0       0   \n",
            "4          3       0       0       0       0       0       0       0       0   \n",
            "...      ...     ...     ...     ...     ...     ...     ...     ...     ...   \n",
            "59995      9       0       0       0       0       0       0       0       0   \n",
            "59996      1       0       0       0       0       0       0       0       0   \n",
            "59997      8       0       0       0       0       0       0       0       0   \n",
            "59998      8       0       0       0       0       0       0       0       0   \n",
            "59999      7       0       0       0       0       0       0       0       0   \n",
            "\n",
            "       pixel9  ...  pixel775  pixel776  pixel777  pixel778  pixel779  \\\n",
            "0           0  ...         0         0         0         0         0   \n",
            "1           0  ...         0         0         0         0         0   \n",
            "2           0  ...         0         0         0        30        43   \n",
            "3           0  ...         3         0         0         0         0   \n",
            "4           0  ...         0         0         0         0         0   \n",
            "...       ...  ...       ...       ...       ...       ...       ...   \n",
            "59995       0  ...         0         0         0         0         0   \n",
            "59996       0  ...        73         0         0         0         0   \n",
            "59997       0  ...       160       162       163       135        94   \n",
            "59998       0  ...         0         0         0         0         0   \n",
            "59999       0  ...         0         0         0         0         0   \n",
            "\n",
            "       pixel780  pixel781  pixel782  pixel783  pixel784  \n",
            "0             0         0         0         0         0  \n",
            "1             0         0         0         0         0  \n",
            "2             0         0         0         0         0  \n",
            "3             1         0         0         0         0  \n",
            "4             0         0         0         0         0  \n",
            "...         ...       ...       ...       ...       ...  \n",
            "59995         0         0         0         0         0  \n",
            "59996         0         0         0         0         0  \n",
            "59997         0         0         0         0         0  \n",
            "59998         0         0         0         0         0  \n",
            "59999         0         0         0         0         0  \n",
            "\n",
            "[60000 rows x 785 columns]\n",
            "Pullover            :   6000 or 10.0%\n",
            "Ankle Boot          :   6000 or 10.0%\n",
            "Shirt               :   6000 or 10.0%\n",
            "T-shirt/top         :   6000 or 10.0%\n",
            "Dress               :   6000 or 10.0%\n",
            "Coat                :   6000 or 10.0%\n",
            "Sandal              :   6000 or 10.0%\n",
            "Bag                 :   6000 or 10.0%\n",
            "Sneaker             :   6000 or 10.0%\n",
            "Trouser             :   6000 or 10.0%\n"
          ]
        }
      ]
    },
    {
      "cell_type": "code",
      "source": [
        "# data preprocessing\n",
        "from keras.utils import to_categorical\n",
        "def data_preprocessing(raw):\n",
        "    out_y = to_categorical(raw.label, NUM_CLASSES)\n",
        "    num_images = raw.shape[0]\n",
        "    x_as_array = raw.values[:,1:]\n",
        "    x_shaped_array = x_as_array.reshape(num_images, IMG_ROWS, IMG_COLS, 1)\n",
        "    out_x = x_shaped_array / 255\n",
        "    return out_x, out_y"
      ],
      "metadata": {
        "id": "jIsEdNyy12ft"
      },
      "execution_count": 50,
      "outputs": []
    },
    {
      "cell_type": "code",
      "source": [
        "# prepare the data\n",
        "X, y = data_preprocessing(train_data)\n",
        "X_test, y_test = data_preprocessing(test_data)"
      ],
      "metadata": {
        "id": "jnikEudh1_bu"
      },
      "execution_count": 51,
      "outputs": []
    },
    {
      "cell_type": "code",
      "source": [
        "X_train, X_val, y_train, y_val = train_test_split(X, y, test_size=TEST_SIZE, random_state=RANDOM_STATE)"
      ],
      "metadata": {
        "id": "pzgDNgzNEkrW"
      },
      "execution_count": 52,
      "outputs": []
    },
    {
      "cell_type": "code",
      "source": [
        "# Model\n",
        "model = Sequential()\n",
        "\n",
        "\n",
        "\n",
        "#Convolution layers\n",
        "model.add(Conv2D(32, (3, 3), activation='relu', padding='same', name='block1_conv1', input_shape=(IMG_ROWS, IMG_COLS, 1)))\n",
        "model.add(Conv2D(32, (3, 3), activation='relu', padding='same', name='block1_conv2'))\n",
        "model.add(MaxPooling2D((2, 2), strides=(2, 2), name='block1_pool'))\n",
        "\n",
        "\n",
        "model.add(Conv2D(64, (3, 3), activation='relu', padding='same', name='block2_conv1'))\n",
        "model.add(Conv2D(64, (3, 3), activation='relu', padding='same', name='block2_conv2'))\n",
        "model.add(MaxPooling2D((2, 2), strides=(2, 2), name='block2_pool'))\n",
        "\n",
        "model.add(Conv2D(128, (3, 3), activation='relu', padding='same', name='block3_conv1'))\n",
        "model.add(Conv2D(128, (3, 3), activation='relu', padding='same', name='block3_conv2'))\n",
        "model.add(MaxPooling2D((2, 2), strides=(2, 2), name='block3_pool'))\n",
        "\n",
        "#FCL\n",
        "model.add(Flatten())\n",
        "\n",
        "model.add(Dense(256, activation='relu', name='fc1'))\n",
        "model.add(Dense(10, activation='softmax', name='predictions'))\n",
        "\n",
        "\n",
        "\n",
        "\n",
        "# Compile model\n",
        "model.compile(optimizer='adam', loss='categorical_crossentropy', metrics=['accuracy'])\n"
      ],
      "metadata": {
        "id": "Uts3tU0SFIPy"
      },
      "execution_count": 53,
      "outputs": []
    },
    {
      "cell_type": "code",
      "source": [
        "model.summary()"
      ],
      "metadata": {
        "colab": {
          "base_uri": "https://localhost:8080/"
        },
        "id": "HpnIRw5DOcZq",
        "outputId": "6aae4b01-43a8-48a7-8f4f-2a951e26c33a"
      },
      "execution_count": 54,
      "outputs": [
        {
          "output_type": "stream",
          "name": "stdout",
          "text": [
            "Model: \"sequential\"\n",
            "_________________________________________________________________\n",
            "Layer (type)                 Output Shape              Param #   \n",
            "=================================================================\n",
            "block1_conv1 (Conv2D)        (None, 28, 28, 32)        320       \n",
            "_________________________________________________________________\n",
            "block1_conv2 (Conv2D)        (None, 28, 28, 32)        9248      \n",
            "_________________________________________________________________\n",
            "block1_pool (MaxPooling2D)   (None, 14, 14, 32)        0         \n",
            "_________________________________________________________________\n",
            "block2_conv1 (Conv2D)        (None, 14, 14, 64)        18496     \n",
            "_________________________________________________________________\n",
            "block2_conv2 (Conv2D)        (None, 14, 14, 64)        36928     \n",
            "_________________________________________________________________\n",
            "block2_pool (MaxPooling2D)   (None, 7, 7, 64)          0         \n",
            "_________________________________________________________________\n",
            "block3_conv1 (Conv2D)        (None, 7, 7, 128)         73856     \n",
            "_________________________________________________________________\n",
            "block3_conv2 (Conv2D)        (None, 7, 7, 128)         147584    \n",
            "_________________________________________________________________\n",
            "block3_pool (MaxPooling2D)   (None, 3, 3, 128)         0         \n",
            "_________________________________________________________________\n",
            "flatten (Flatten)            (None, 1152)              0         \n",
            "_________________________________________________________________\n",
            "fc1 (Dense)                  (None, 256)               295168    \n",
            "_________________________________________________________________\n",
            "predictions (Dense)          (None, 10)                2570      \n",
            "=================================================================\n",
            "Total params: 584,170\n",
            "Trainable params: 584,170\n",
            "Non-trainable params: 0\n",
            "_________________________________________________________________\n"
          ]
        }
      ]
    },
    {
      "cell_type": "code",
      "source": [
        "train_model = model.fit(X_train, y_train,\n",
        "                  batch_size=BATCH_SIZE,\n",
        "                  epochs=NO_EPOCHS,\n",
        "                  verbose=1,\n",
        "                  validation_data=(X_val, y_val))"
      ],
      "metadata": {
        "id": "enc2TFucPYXK"
      },
      "execution_count": null,
      "outputs": []
    },
    {
      "cell_type": "code",
      "source": [
        "score = model.evaluate(X_test, y_test, verbose=0)\n",
        "print('Test loss:', score[0])\n",
        "print('Test accuracy:', score[1])"
      ],
      "metadata": {
        "id": "823iCBoNRM3c",
        "colab": {
          "base_uri": "https://localhost:8080/"
        },
        "outputId": "0f9b9664-28cd-4265-cd70-5a55724994b0"
      },
      "execution_count": 55,
      "outputs": [
        {
          "output_type": "stream",
          "name": "stdout",
          "text": [
            "Test loss: 2.303600311279297\n",
            "Test accuracy: 0.04639999940991402\n"
          ]
        }
      ]
    },
    {
      "cell_type": "markdown",
      "source": [
        "# same model but with dropout technique"
      ],
      "metadata": {
        "id": "vg53g-A9oolv"
      }
    },
    {
      "cell_type": "code",
      "source": [
        "# Model\n",
        "model = Sequential()\n",
        "# Add convolution 2D\n",
        "\n",
        "\n",
        "#CNN layer with droput regulazation technique\n",
        "model.add(Conv2D(32, (3, 3), activation='relu', padding='same', name='block1_conv1', input_shape=(IMG_ROWS, IMG_COLS, 1)))\n",
        "model.add(Conv2D(32, (3, 3), activation='relu', padding='same', name='block1_conv2'))\n",
        "model.add(MaxPooling2D((2, 2), strides=(2, 2), name='block1_pool'))\n",
        "model.add(Dropout(0,25))\n",
        "\n",
        "\n",
        "model.add(Conv2D(64, (3, 3), activation='relu', padding='same', name='block2_conv1'))\n",
        "model.add(Conv2D(64, (3, 3), activation='relu', padding='same', name='block2_conv2'))\n",
        "model.add(MaxPooling2D((2, 2), strides=(2, 2), name='block2_pool'))\n",
        "model.add(Dropout(0,25))\n",
        "\n",
        "\n",
        "model.add(Conv2D(128, (3, 3), activation='relu', padding='same', name='block3_conv1'))\n",
        "model.add(Conv2D(128, (3, 3), activation='relu', padding='same', name='block3_conv2'))\n",
        "model.add(MaxPooling2D((2, 2), strides=(2, 2), name='block3_pool'))\n",
        "\n",
        "# FCL\n",
        "model.add(Flatten())\n",
        "model.add(Dropout(0,4))\n",
        "\n",
        "\n",
        "model.add(Dense(256, activation='relu', name='fc1'))\n",
        "model.add(Dense(10, activation='softmax', name='predictions'))\n",
        "\n",
        "\n",
        "\n",
        "\n",
        "# Compile model\n",
        "model.compile(optimizer='adam', loss='categorical_crossentropy', metrics=['accuracy'])"
      ],
      "metadata": {
        "id": "cYrvfxanTX8h"
      },
      "execution_count": null,
      "outputs": []
    },
    {
      "cell_type": "code",
      "source": [
        "train_model = model.fit(X_train, y_train,\n",
        "                  batch_size=BATCH_SIZE,\n",
        "                  epochs=NO_EPOCHS,\n",
        "                  verbose=1,\n",
        "                  validation_data=(X_val, y_val))"
      ],
      "metadata": {
        "id": "pZxxWQ2ehPQX"
      },
      "execution_count": null,
      "outputs": []
    },
    {
      "cell_type": "code",
      "source": [
        "score = model.evaluate(X_test, y_test, verbose=0)\n",
        "print('Test loss:', score[0])\n",
        "print('Test accuracy:', score[1])"
      ],
      "metadata": {
        "id": "D9hIlZ9eo0xX"
      },
      "execution_count": null,
      "outputs": []
    }
  ]
}